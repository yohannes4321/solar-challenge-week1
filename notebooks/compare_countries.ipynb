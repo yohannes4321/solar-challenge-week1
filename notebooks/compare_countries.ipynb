{
 "cells": [
  {
   "cell_type": "code",
   "execution_count": 1,
   "id": "2c3e4a31",
   "metadata": {},
   "outputs": [],
   "source": [
    "import pandas as pd\n",
    "import matplotlib.pyplot as plt\n",
    "import seaborn as sns\n",
    "from scipy.stats import f_oneway, kruskal\n"
   ]
  },
  {
   "cell_type": "code",
   "execution_count": null,
   "id": "ce2d2b06",
   "metadata": {},
   "outputs": [
    {
     "ename": "SyntaxError",
     "evalue": "invalid syntax (1078802072.py, line 4)",
     "output_type": "error",
     "traceback": [
      "  \u001b[36mCell\u001b[39m\u001b[36m \u001b[39m\u001b[32mIn[2]\u001b[39m\u001b[32m, line 4\u001b[39m\n\u001b[31m    \u001b[39m\u001b[31m../data/benin-malanville.csv\u001b[39m\n    ^\n\u001b[31mSyntaxError\u001b[39m\u001b[31m:\u001b[39m invalid syntax\n"
     ]
    }
   ],
   "source": [
    "benin = pd.read_csv('../data/benin_clean.csv')\n",
    "sierra_leone = pd.read_csv('../data/sierra_leone_clean.csv')\n",
    "togo = pd.read_csv('../data/togo_clean.csv')\n",
    "../data/benin-malanville.csv\n",
    "benin['Country'] = 'Benin'\n",
    "sierra_leone['Country'] = 'Sierra Leone'\n",
    "togo['Country'] = 'Togo'\n",
    "\n",
    "df_all = pd.concat([benin, sierra_leone, togo], ignore_index=True)\n"
   ]
  },
  {
   "cell_type": "code",
   "execution_count": null,
   "id": "bbdb2df3",
   "metadata": {},
   "outputs": [],
   "source": [
    "metrics = ['GHI', 'DNI', 'DHI']\n",
    "for metric in metrics:\n",
    "    plt.figure(figsize=(8,5))\n",
    "    sns.boxplot(data=df_all, x='Country', y=metric, palette='Set2')\n",
    "    plt.title(f'{metric} Comparison by Country')\n",
    "    plt.ylabel(f'{metric} (W/m²)')\n",
    "    plt.xlabel('Country')\n",
    "    plt.grid(True, linestyle='--', alpha=0.5)\n",
    "    plt.show()\n"
   ]
  }
 ],
 "metadata": {
  "kernelspec": {
   "display_name": "venv",
   "language": "python",
   "name": "python3"
  },
  "language_info": {
   "codemirror_mode": {
    "name": "ipython",
    "version": 3
   },
   "file_extension": ".py",
   "mimetype": "text/x-python",
   "name": "python",
   "nbconvert_exporter": "python",
   "pygments_lexer": "ipython3",
   "version": "3.11.9"
  }
 },
 "nbformat": 4,
 "nbformat_minor": 5
}
